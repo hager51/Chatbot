{
  "cells": [
    {
      "cell_type": "code",
      "execution_count": 1,
      "metadata": {
        "colab": {
          "base_uri": "https://localhost:8080/"
        },
        "id": "pzUxGekAyvPf",
        "outputId": "f7979bda-5e2c-4670-d5dc-5e08e0a4c414"
      },
      "outputs": [
        {
          "name": "stderr",
          "output_type": "stream",
          "text": [
            "[nltk_data] Downloading package punkt to C:\\Users\\hager\n",
            "[nltk_data]     nasser\\AppData\\Roaming\\nltk_data...\n",
            "[nltk_data]   Package punkt is already up-to-date!\n",
            "[nltk_data] Downloading package wordnet to C:\\Users\\hager\n",
            "[nltk_data]     nasser\\AppData\\Roaming\\nltk_data...\n",
            "[nltk_data]   Package wordnet is already up-to-date!\n"
          ]
        }
      ],
      "source": [
        "import pandas as pd\n",
        "import numpy as np\n",
        "import nltk\n",
        "nltk.download('punkt')\n",
        "nltk.download('wordnet')\n",
        "from nltk.stem import WordNetLemmatizer\n",
        "from nltk.tokenize import word_tokenize\n",
        "from sklearn.metrics.pairwise import cosine_similarity\n",
        "from sklearn.feature_extraction.text import TfidfVectorizer\n",
        "from sklearn.decomposition import TruncatedSVD"
      ]
    },
    {
      "cell_type": "code",
      "execution_count": 2,
      "metadata": {
        "id": "Bbhs35A7QTad"
      },
      "outputs": [],
      "source": [
        "cols = ['ID(original)', 'ID' , 'Q' , 'A']\n",
        "data = pd.read_csv('COQB-19_crowdsourced_06202020.csv', sep=',', names=cols, header=None, encoding='latin-1',skiprows=1)\n",
        "data = data.dropna()\n",
        "Questions = data['Q']\n",
        "ID= data['ID'].tolist()\n",
        "corpus = Questions.tolist()\n",
        "Answers =data['A'].tolist()"
      ]
    },
    {
      "cell_type": "code",
      "execution_count": 3,
      "metadata": {
        "id": "9KjXclXhwzHq"
      },
      "outputs": [],
      "source": [
        "lemmatizer = WordNetLemmatizer()\n",
        "def stemSentence(sentence):\n",
        "    token_words= word_tokenize(sentence)\n",
        "    lematized_tokens = [lemmatizer.lemmatize(w) for w in token_words]\n",
        "    return \"  \".join(lematized_tokens)"
      ]
    },
    {
      "cell_type": "code",
      "execution_count": 4,
      "metadata": {
        "id": "VO60ynELw1PB"
      },
      "outputs": [],
      "source": [
        "stemmed_corpus = []\n",
        "SC = []\n",
        "for i in range(len(corpus)):\n",
        "  stemmed_corpus.append((i,stemSentence(corpus[i].lower())))\n",
        "  SC.append(stemSentence(corpus[i].lower()))"
      ]
    },
    {
      "cell_type": "code",
      "execution_count": 5,
      "metadata": {
        "id": "5PPxawscQW3q"
      },
      "outputs": [],
      "source": [
        "vectorizer = TfidfVectorizer()"
      ]
    },
    {
      "cell_type": "code",
      "execution_count": 6,
      "metadata": {
        "id": "0HpdB_yvQY7q"
      },
      "outputs": [],
      "source": [
        "X = vectorizer.fit_transform(SC)"
      ]
    },
    {
      "cell_type": "code",
      "execution_count": 7,
      "metadata": {
        "id": "MU0axiMPQZ46"
      },
      "outputs": [],
      "source": [
        "mat_x = X.toarray()"
      ]
    },
    {
      "cell_type": "code",
      "execution_count": 8,
      "metadata": {
        "id": "VVIvBHuvGFpL"
      },
      "outputs": [],
      "source": [
        "svd_model = TruncatedSVD(n_components=615, algorithm='randomized', n_iter=100, random_state=122)\n",
        "lsa = svd_model.fit_transform(X)"
      ]
    },
    {
      "cell_type": "code",
      "execution_count": 9,
      "metadata": {
        "id": "8XiVUHcwx10X"
      },
      "outputs": [],
      "source": [
        "def answer_question(question):\n",
        "  lematized_question = stemSentence(question)\n",
        "  question_x = vectorizer.transform([lematized_question])\n",
        "  question_x = svd_model.transform(question_x)\n",
        "  sim_scores = cosine_similarity(question_x,  lsa).ravel()\n",
        "  top_idx = np.argmax(sim_scores)\n",
        "  return Answers[stemmed_corpus[top_idx][0]]"
      ]
    },
    {
      "cell_type": "code",
      "execution_count": 10,
      "metadata": {
        "id": "piDeO0yA8fRg"
      },
      "outputs": [],
      "source": [
        "import os\n",
        "\n",
        "if not os.path.exists('templates'):\n",
        "  os.makedirs('templates')\n",
        "if not os.path.exists('static'):\n",
        "  os.makedirs('static')"
      ]
    },
    {
      "cell_type": "code",
      "execution_count": 11,
      "metadata": {
        "id": "ODkqbr3j8f_T"
      },
      "outputs": [],
      "source": [
        "home= '''\n",
        "\n",
        "<!DOCTYPE html>\n",
        "<html lang=\"en\">\n",
        "\n",
        "<head>\n",
        "  <meta charset=\"UTF-8\">\n",
        "  <title>InferMedica Chatbot</title>\n",
        "  <meta charset=\"UTF-8\">\n",
        "  <meta name=\"viewport\" content=\"width=device-width, initial-scale=1.0\">\n",
        "  <meta http-equiv=\"X-UA-Compatible\" content=\"ie=edge\">\n",
        "  <link rel=\"stylesheet\" href=\"/static/style.css\">\n",
        "  <script src=\"https://ajax.googleapis.com/ajax/libs/jquery/3.2.1/jquery.min.js\"></script>\n",
        "</head>\n",
        "\n",
        "<body>\n",
        "  <!-- partial:index.partial.html -->\n",
        "  <section class=\"msger\">\n",
        "    <header class=\"msger-header\">\n",
        "      <div class=\"msger-header-title\">\n",
        "        <i></i> InferMedica Chatbot <i></i>\n",
        "      </div>\n",
        "    </header>\n",
        "\n",
        "    <main class=\"msger-chat\">\n",
        "      <div class=\"msg left-msg\">\n",
        "        <div class=\"msg-img\" style=\"background-image: url(https://image.flaticon.com/icons/svg/327/327779.svg)\"></div>\n",
        "\n",
        "        <div class=\"msg-bubble\">\n",
        "          <div class=\"msg-info\">\n",
        "            <div class=\"msg-info-name\">InferMedica</div>\n",
        "        \n",
        "          </div>\n",
        "\n",
        "          <div class=\"msg-text\">\n",
        "            Hi, welcome to InferMedica ChatBot! How can I help you?! 😄\n",
        "          </div>\n",
        "        </div>\n",
        "      </div>\n",
        "\n",
        "    </main>\n",
        "\n",
        "    <form class=\"msger-inputarea\">\n",
        "      <input type=\"text\" class=\"msger-input\" id=\"textInput\" placeholder=\"Type your message...\">\n",
        "      <button type=\"submit\" class=\"msger-send-btn\">Send</button>\n",
        "    </form>\n",
        "  </section>\n",
        "  <!-- partial -->\n",
        "  <script src='https://use.fontawesome.com/releases/v5.0.13/js/all.js'></script>\n",
        "  <script>\n",
        "\n",
        "    const msgerForm = get(\".msger-inputarea\");\n",
        "    const msgerInput = get(\".msger-input\");\n",
        "    const msgerChat = get(\".msger-chat\");\n",
        "\n",
        "\n",
        "    // Icons made by Freepik from www.flaticon.com\n",
        "    const BOT_IMG = \"https://image.flaticon.com/icons/svg/327/327779.svg\";\n",
        "    const PERSON_IMG = \"https://image.flaticon.com/icons/svg/145/145867.svg\";\n",
        "    const BOT_NAME = \"ChatBot\";\n",
        "    const PERSON_NAME = \"You\";\n",
        "\n",
        "    msgerForm.addEventListener(\"submit\", event => {\n",
        "      event.preventDefault();\n",
        "\n",
        "      const msgText = msgerInput.value;\n",
        "      if (!msgText) return;\n",
        "\n",
        "      appendMessage(PERSON_NAME, PERSON_IMG, \"right\", msgText);\n",
        "      msgerInput.value = \"\";\n",
        "      botResponse(msgText);\n",
        "    });\n",
        "\n",
        "    function appendMessage(name, img, side, text) {\n",
        "      //   Simple solution for small apps\n",
        "      const msgHTML = `\n",
        "<div class=\"msg ${side}-msg\">\n",
        "  <div class=\"msg-img\" style=\"background-image: url(${img})\"></div>\n",
        "\n",
        "  <div class=\"msg-bubble\">\n",
        "    <div class=\"msg-info\">\n",
        "      <div class=\"msg-info-name\">${name}</div>\n",
        "      <div class=\"msg-info-time\">${formatDate(new Date())}</div>\n",
        "    </div>\n",
        "\n",
        "    <div class=\"msg-text\">${text}</div>\n",
        "  </div>\n",
        "</div>\n",
        "`;\n",
        "\n",
        "      msgerChat.insertAdjacentHTML(\"beforeend\", msgHTML);\n",
        "      msgerChat.scrollTop += 500;\n",
        "    }\n",
        "\n",
        "    function botResponse(rawText) {\n",
        "\n",
        "      // Bot Response\n",
        "      $.get(\"/get\", { msg: rawText }).done(function (data) {\n",
        "        console.log(rawText);\n",
        "        console.log(data);\n",
        "        const msgText = data;\n",
        "        appendMessage(BOT_NAME, BOT_IMG, \"left\", msgText);\n",
        "\n",
        "      });\n",
        "\n",
        "    }\n",
        "\n",
        "\n",
        "    // Utils\n",
        "    function get(selector, root = document) {\n",
        "      return root.querySelector(selector);\n",
        "    }\n",
        "\n",
        "    function formatDate(date) {\n",
        "      const h = \"0\" + date.getHours();\n",
        "      const m = \"0\" + date.getMinutes();\n",
        "\n",
        "      return `${h.slice(-2)}:${m.slice(-2)}`;\n",
        "    }\n",
        "\n",
        "\n",
        "\n",
        "  </script>\n",
        "\n",
        "</body>\n",
        "\n",
        "</html>\n",
        "'''\n",
        "\n",
        "\n",
        "file=open(\"templates/home.html\", \"w\", encoding=\"utf-8\")\n",
        "file.write(home)\n",
        "file.close()\n"
      ]
    },
    {
      "cell_type": "code",
      "execution_count": 12,
      "metadata": {
        "colab": {
          "base_uri": "https://localhost:8080/"
        },
        "id": "ODosGrkG8ir1",
        "outputId": "c4236434-e946-4291-b94e-b28348d9127e"
      },
      "outputs": [
        {
          "name": "stdout",
          "output_type": "stream",
          "text": [
            "Requirement already satisfied: flask-ngrok in c:\\users\\hager nasser\\anaconda3\\lib\\site-packages (0.0.25)\n",
            "Requirement already satisfied: requests in c:\\users\\hager nasser\\anaconda3\\lib\\site-packages (from flask-ngrok) (2.26.0)\n",
            "Requirement already satisfied: Flask>=0.8 in c:\\users\\hager nasser\\anaconda3\\lib\\site-packages (from flask-ngrok) (1.1.2)\n",
            "Requirement already satisfied: Jinja2>=2.10.1 in c:\\users\\hager nasser\\anaconda3\\lib\\site-packages (from Flask>=0.8->flask-ngrok) (2.11.3)\n",
            "Requirement already satisfied: click>=5.1 in c:\\users\\hager nasser\\anaconda3\\lib\\site-packages (from Flask>=0.8->flask-ngrok) (8.0.3)\n",
            "Requirement already satisfied: itsdangerous>=0.24 in c:\\users\\hager nasser\\anaconda3\\lib\\site-packages (from Flask>=0.8->flask-ngrok) (2.0.1)\n",
            "Requirement already satisfied: Werkzeug>=0.15 in c:\\users\\hager nasser\\anaconda3\\lib\\site-packages (from Flask>=0.8->flask-ngrok) (2.0.2)\n",
            "Requirement already satisfied: colorama in c:\\users\\hager nasser\\anaconda3\\lib\\site-packages (from click>=5.1->Flask>=0.8->flask-ngrok) (0.4.4)\n",
            "Requirement already satisfied: MarkupSafe>=0.23 in c:\\users\\hager nasser\\anaconda3\\lib\\site-packages (from Jinja2>=2.10.1->Flask>=0.8->flask-ngrok) (1.1.1)\n",
            "Requirement already satisfied: idna<4,>=2.5 in c:\\users\\hager nasser\\anaconda3\\lib\\site-packages (from requests->flask-ngrok) (3.2)\n",
            "Requirement already satisfied: urllib3<1.27,>=1.21.1 in c:\\users\\hager nasser\\anaconda3\\lib\\site-packages (from requests->flask-ngrok) (1.26.7)\n",
            "Requirement already satisfied: certifi>=2017.4.17 in c:\\users\\hager nasser\\anaconda3\\lib\\site-packages (from requests->flask-ngrok) (2021.10.8)\n",
            "Requirement already satisfied: charset-normalizer~=2.0.0 in c:\\users\\hager nasser\\anaconda3\\lib\\site-packages (from requests->flask-ngrok) (2.0.4)\n",
            " * Serving Flask app \"__main__\" (lazy loading)\n",
            " * Environment: production\n",
            "\u001b[31m   WARNING: This is a development server. Do not use it in a production deployment.\u001b[0m\n",
            "\u001b[2m   Use a production WSGI server instead.\u001b[0m\n",
            " * Debug mode: off\n"
          ]
        },
        {
          "name": "stderr",
          "output_type": "stream",
          "text": [
            " * Running on http://127.0.0.1:5000/ (Press CTRL+C to quit)\n"
          ]
        },
        {
          "name": "stdout",
          "output_type": "stream",
          "text": [
            " * Running on http://a934-156-216-134-87.ngrok.io\n",
            " * Traffic stats available on http://127.0.0.1:4040\n"
          ]
        }
      ],
      "source": [
        "!pip install flask-ngrok\n",
        "from flask import Flask, render_template, request\n",
        "from flask_ngrok import run_with_ngrok\n",
        "app = Flask(__name__)\n",
        "run_with_ngrok(app)   \n",
        "  \n",
        "app.static_folder = 'static'\n",
        "@app.route(\"/\")\n",
        "def home():\n",
        "    return render_template(\"home.html\")\n",
        "@app.route(\"/get\")\n",
        "def get_bot_response():\n",
        "    userText = request.args.get('msg')\n",
        "    return answer_question(userText)\n",
        "    \n",
        "app.run()\n"
      ]
    }
  ],
  "metadata": {
    "colab": {
      "collapsed_sections": [],
      "name": "flask_2nd_V.ipynb",
      "provenance": []
    },
    "kernelspec": {
      "display_name": "Python 3",
      "name": "python3"
    },
    "language_info": {
      "codemirror_mode": {
        "name": "ipython",
        "version": 3
      },
      "file_extension": ".py",
      "mimetype": "text/x-python",
      "name": "python",
      "nbconvert_exporter": "python",
      "pygments_lexer": "ipython3",
      "version": "3.9.7"
    }
  },
  "nbformat": 4,
  "nbformat_minor": 0
}
