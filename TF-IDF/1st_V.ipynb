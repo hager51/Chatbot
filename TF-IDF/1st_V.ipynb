{
  "cells": [
    {
      "cell_type": "code",
      "execution_count": 1,
      "metadata": {
        "colab": {
          "base_uri": "https://localhost:8080/"
        },
        "id": "pzUxGekAyvPf",
        "outputId": "404b2e34-1849-4cc9-cb32-7c01d7426e30"
      },
      "outputs": [
        {
          "name": "stderr",
          "output_type": "stream",
          "text": [
            "[nltk_data] Downloading package punkt to C:\\Users\\hager\n",
            "[nltk_data]     nasser\\AppData\\Roaming\\nltk_data...\n",
            "[nltk_data]   Package punkt is already up-to-date!\n",
            "[nltk_data] Downloading package wordnet to C:\\Users\\hager\n",
            "[nltk_data]     nasser\\AppData\\Roaming\\nltk_data...\n",
            "[nltk_data]   Package wordnet is already up-to-date!\n"
          ]
        }
      ],
      "source": [
        "import pandas as pd\n",
        "import numpy as np\n",
        "import nltk\n",
        "nltk.download('punkt')\n",
        "nltk.download('wordnet')\n",
        "from nltk.stem import WordNetLemmatizer\n",
        "from nltk.tokenize import word_tokenize\n",
        "from sklearn.metrics.pairwise import cosine_similarity\n",
        "from sklearn.metrics import precision_score, recall_score\n",
        "import matplotlib.pyplot as plt\n",
        "from sklearn.feature_extraction.text import TfidfVectorizer"
      ]
    },
    {
      "cell_type": "code",
      "execution_count": 2,
      "metadata": {
        "id": "Bbhs35A7QTad"
      },
      "outputs": [],
      "source": [
        "cols = ['ID(original)', 'ID' , 'Q' , 'A']\n",
        "data = pd.read_csv('COQB-19_crowdsourced_06202020.csv', sep=',', names=cols,\n",
        "                   header=None, encoding='latin-1',skiprows=1)\n",
        "data = data.dropna()\n",
        "Questions = data['Q']\n",
        "ID= data['ID'].tolist()\n",
        "corpus = Questions.tolist()\n",
        "Answers =data['A'].tolist()"
      ]
    },
    {
      "cell_type": "code",
      "execution_count": 3,
      "metadata": {
        "id": "9KjXclXhwzHq"
      },
      "outputs": [],
      "source": [
        "lemmatizer = WordNetLemmatizer()\n",
        "def stemSentence(sentence):\n",
        "    token_words= word_tokenize(sentence)\n",
        "    lematized_tokens = [lemmatizer.lemmatize(w) for w in token_words]\n",
        "    return \"  \".join(lematized_tokens)"
      ]
    },
    {
      "cell_type": "code",
      "execution_count": 4,
      "metadata": {
        "id": "VO60ynELw1PB"
      },
      "outputs": [],
      "source": [
        "stemmed_corpus = []\n",
        "StemmedCorpus = []\n",
        "for i in range(len(corpus)):\n",
        "  stemmed_corpus.append((i,stemSentence(corpus[i].lower())))\n",
        "  StemmedCorpus.append(stemSentence(corpus[i].lower()))"
      ]
    },
    {
      "cell_type": "code",
      "execution_count": 5,
      "metadata": {
        "id": "5PPxawscQW3q"
      },
      "outputs": [],
      "source": [
        "vectorizer = TfidfVectorizer()"
      ]
    },
    {
      "cell_type": "code",
      "execution_count": 6,
      "metadata": {
        "id": "0HpdB_yvQY7q"
      },
      "outputs": [],
      "source": [
        "X = vectorizer.fit_transform(StemmedCorpus)"
      ]
    },
    {
      "cell_type": "code",
      "execution_count": 7,
      "metadata": {
        "id": "MU0axiMPQZ46"
      },
      "outputs": [],
      "source": [
        "mat_x = X.toarray()"
      ]
    },
    {
      "cell_type": "code",
      "execution_count": 8,
      "metadata": {
        "id": "8XiVUHcwx10X"
      },
      "outputs": [],
      "source": [
        "def answer_question(question, corpus_X):\n",
        "  lematized_question = stemSentence(question)\n",
        "  question_x = vectorizer.transform([lematized_question])\n",
        "  sim_scores = cosine_similarity(question_x,  corpus_X).ravel()\n",
        "  top_idx = np.argmax(sim_scores)\n",
        "  return top_idx, sim_scores[top_idx], sim_scores"
      ]
    },
    {
      "cell_type": "code",
      "execution_count": 9,
      "metadata": {
        "id": "EoPKs8bJRFTF"
      },
      "outputs": [],
      "source": [
        "x2 = 'What Is covid 19?'"
      ]
    },
    {
      "cell_type": "code",
      "execution_count": 10,
      "metadata": {
        "colab": {
          "base_uri": "https://localhost:8080/"
        },
        "id": "EZwTaOVayKHc",
        "outputId": "1a7d14ee-f6bc-4a6f-ca29-05122fa1891e"
      },
      "outputs": [
        {
          "name": "stdout",
          "output_type": "stream",
          "text": [
            "Similarity score =  1.0000000000000002\n",
            "question:  What is COVID-19?\n",
            "suggested answer:  COVID-19 is the infectious disease caused by the most recently discovered coronavirus. This new virus and disease were unknown before the outbreak began in Wuhan, China, in December 2019. More information is available from the World Health Organization.\n"
          ]
        }
      ],
      "source": [
        "answer_idx, answer_score,_ = answer_question(x2.lower(), mat_x)\n",
        "print('Similarity score = ', answer_score)\n",
        "print('question: ', corpus[stemmed_corpus[answer_idx][0]])\n",
        "print('suggested answer: ', Answers[stemmed_corpus[answer_idx][0]])"
      ]
    },
    {
      "cell_type": "code",
      "execution_count": 11,
      "metadata": {
        "id": "KOq6qvos3ai-"
      },
      "outputs": [],
      "source": [
        "def compute_precision_recall_at_threshold(corpus, ids, corpus_X, threshold):\n",
        "  precision_list = []\n",
        "  recall_list = []\n",
        "  for i,test_doc in enumerate(corpus):\n",
        "    if i%20 != 0:\n",
        "      continue\n",
        "    _,_,  scores = answer_question(test_doc, corpus_X)\n",
        "    preds = scores >= threshold\n",
        "    labels = np.array([a_id==ids[i] for a_id in ids])\n",
        "    precision_list.append(precision_score(labels, preds))\n",
        "    recall_list.append(recall_score(labels, preds))\n",
        "  return np.mean(precision_list),  np.mean(recall_list)"
      ]
    },
    {
      "cell_type": "code",
      "execution_count": 12,
      "metadata": {
        "colab": {
          "base_uri": "https://localhost:8080/"
        },
        "id": "UUg7XL_43dSE",
        "outputId": "57c29bbc-00a4-4244-d760-7d25b5e71e93"
      },
      "outputs": [
        {
          "name": "stderr",
          "output_type": "stream",
          "text": [
            "C:\\Users\\hager nasser\\anaconda3\\lib\\site-packages\\sklearn\\metrics\\_classification.py:1248: UndefinedMetricWarning: Precision is ill-defined and being set to 0.0 due to no predicted samples. Use `zero_division` parameter to control this behavior.\n",
            "  _warn_prf(average, modifier, msg_start, len(result))\n",
            "C:\\Users\\hager nasser\\anaconda3\\lib\\site-packages\\sklearn\\metrics\\_classification.py:1248: UndefinedMetricWarning: Precision is ill-defined and being set to 0.0 due to no predicted samples. Use `zero_division` parameter to control this behavior.\n",
            "  _warn_prf(average, modifier, msg_start, len(result))\n",
            "C:\\Users\\hager nasser\\anaconda3\\lib\\site-packages\\sklearn\\metrics\\_classification.py:1248: UndefinedMetricWarning: Precision is ill-defined and being set to 0.0 due to no predicted samples. Use `zero_division` parameter to control this behavior.\n",
            "  _warn_prf(average, modifier, msg_start, len(result))\n",
            "C:\\Users\\hager nasser\\anaconda3\\lib\\site-packages\\sklearn\\metrics\\_classification.py:1248: UndefinedMetricWarning: Precision is ill-defined and being set to 0.0 due to no predicted samples. Use `zero_division` parameter to control this behavior.\n",
            "  _warn_prf(average, modifier, msg_start, len(result))\n",
            "C:\\Users\\hager nasser\\anaconda3\\lib\\site-packages\\sklearn\\metrics\\_classification.py:1248: UndefinedMetricWarning: Precision is ill-defined and being set to 0.0 due to no predicted samples. Use `zero_division` parameter to control this behavior.\n",
            "  _warn_prf(average, modifier, msg_start, len(result))\n",
            "C:\\Users\\hager nasser\\anaconda3\\lib\\site-packages\\sklearn\\metrics\\_classification.py:1248: UndefinedMetricWarning: Precision is ill-defined and being set to 0.0 due to no predicted samples. Use `zero_division` parameter to control this behavior.\n",
            "  _warn_prf(average, modifier, msg_start, len(result))\n",
            "C:\\Users\\hager nasser\\anaconda3\\lib\\site-packages\\sklearn\\metrics\\_classification.py:1248: UndefinedMetricWarning: Precision is ill-defined and being set to 0.0 due to no predicted samples. Use `zero_division` parameter to control this behavior.\n",
            "  _warn_prf(average, modifier, msg_start, len(result))\n",
            "C:\\Users\\hager nasser\\anaconda3\\lib\\site-packages\\sklearn\\metrics\\_classification.py:1248: UndefinedMetricWarning: Precision is ill-defined and being set to 0.0 due to no predicted samples. Use `zero_division` parameter to control this behavior.\n",
            "  _warn_prf(average, modifier, msg_start, len(result))\n",
            "C:\\Users\\hager nasser\\anaconda3\\lib\\site-packages\\sklearn\\metrics\\_classification.py:1248: UndefinedMetricWarning: Precision is ill-defined and being set to 0.0 due to no predicted samples. Use `zero_division` parameter to control this behavior.\n",
            "  _warn_prf(average, modifier, msg_start, len(result))\n",
            "C:\\Users\\hager nasser\\anaconda3\\lib\\site-packages\\sklearn\\metrics\\_classification.py:1248: UndefinedMetricWarning: Precision is ill-defined and being set to 0.0 due to no predicted samples. Use `zero_division` parameter to control this behavior.\n",
            "  _warn_prf(average, modifier, msg_start, len(result))\n"
          ]
        }
      ],
      "source": [
        "probability_thresholds = np.linspace(0,1, num=50)\n",
        "prec_list =[]\n",
        "rec_list =[]\n",
        "for threshold in probability_thresholds:\n",
        "  cur_prec, cur_rec = compute_precision_recall_at_threshold(corpus, ID,\n",
        "                                                            mat_x,threshold)\n",
        "  prec_list.append(cur_prec)\n",
        "  rec_list.append(cur_rec)"
      ]
    },
    {
      "cell_type": "code",
      "execution_count": 13,
      "metadata": {
        "colab": {
          "base_uri": "https://localhost:8080/",
          "height": 297
        },
        "id": "CxAufyN73rGP",
        "outputId": "cbb985f4-45a5-4aa8-faca-1b817dc0c61a"
      },
      "outputs": [
        {
          "data": {
            "text/plain": [
              "Text(0, 0.5, 'precision')"
            ]
          },
          "execution_count": 13,
          "metadata": {},
          "output_type": "execute_result"
        },
        {
          "data": {
            "image/png": "[encoded data removed]",
            "text/plain": [
              "<Figure size 432x288 with 1 Axes>"
            ]
          },
          "metadata": {
            "needs_background": "light"
          },
          "output_type": "display_data"
        }
      ],
      "source": [
        "plt.plot(rec_list,  prec_list)\n",
        "plt.xlabel('recall')\n",
        "plt.ylabel('precision')"
      ]
    },
    {
      "cell_type": "code",
      "execution_count": 14,
      "metadata": {
        "id": "pi0T4CbH3uQN"
      },
      "outputs": [],
      "source": [
        "def compute_prec_recall_at_k(corpus, ids, corpus_X, k=5):\n",
        "  prec_at_k_list = []\n",
        "  recall_at_k_list = []\n",
        "  for i,test_doc in enumerate(corpus):\n",
        "    if i%20 != 0:\n",
        "      continue\n",
        "    _,_,  scores = answer_question(test_doc, corpus_X)\n",
        "    top_k_idx = np.argsort(scores)[::-1][:k]\n",
        "    top_k_labels = [ids[idx] for idx in top_k_idx]\n",
        "    num_true_labels = np.sum([a_id==ids[i] for a_id in ids])\n",
        "    num_true_in_top_k = np.sum([a_id==ids[i] for a_id in top_k_labels])\n",
        "    cur_prec_at_k = num_true_in_top_k/k\n",
        "    cur_recall_at_k = num_true_in_top_k / num_true_labels\n",
        "    recall_at_k_list.append(cur_recall_at_k)\n",
        "    prec_at_k_list.append(cur_prec_at_k)\n",
        "  return np.mean(prec_at_k_list), np.mean(recall_at_k_list)"
      ]
    },
    {
      "cell_type": "code",
      "execution_count": 15,
      "metadata": {
        "colab": {
          "base_uri": "https://localhost:8080/"
        },
        "id": "IQx4t3mK3zFV",
        "outputId": "aeec24a4-02d9-4b98-9695-628588aa7563"
      },
      "outputs": [
        {
          "name": "stdout",
          "output_type": "stream",
          "text": [
            "Prec, Recall at 1 :  (0.9745762711864406, 0.13405357066505585)\n"
          ]
        }
      ],
      "source": [
        "print(\"Prec, Recall at 1 : \",  compute_prec_recall_at_k(corpus, ID, mat_x, 1))"
      ]
    },
    {
      "cell_type": "code",
      "execution_count": 16,
      "metadata": {
        "colab": {
          "base_uri": "https://localhost:8080/"
        },
        "id": "eoqcZkkC32up",
        "outputId": "cac15a4e-0dad-474e-c5d9-ab4132ae8293"
      },
      "outputs": [
        {
          "name": "stdout",
          "output_type": "stream",
          "text": [
            "Prec, Recall at 5 :  (0.7033898305084746, 0.29548746393012526)\n"
          ]
        }
      ],
      "source": [
        "print(\"Prec, Recall at 5 : \",  compute_prec_recall_at_k(corpus, ID, mat_x, 5))"
      ]
    },
    {
      "cell_type": "code",
      "execution_count": 17,
      "metadata": {
        "colab": {
          "base_uri": "https://localhost:8080/"
        },
        "id": "coj2apKF39kc",
        "outputId": "5abd1a5e-df51-4792-f3a0-34e22516946d"
      },
      "outputs": [
        {
          "name": "stdout",
          "output_type": "stream",
          "text": [
            "Prec,Recall at 10 :  (0.5805084745762711, 0.40409848836096574)\n"
          ]
        }
      ],
      "source": [
        "print(\"Prec,Recall at 10 : \",  compute_prec_recall_at_k(corpus, ID, mat_x, 10))"
      ]
    },
    {
      "cell_type": "code",
      "execution_count": 18,
      "metadata": {
        "colab": {
          "base_uri": "https://localhost:8080/"
        },
        "id": "_MolE-epq_oZ",
        "outputId": "c7428142-91ad-44c4-c21a-8a098d32e192"
      },
      "outputs": [
        {
          "name": "stdout",
          "output_type": "stream",
          "text": [
            "AUC : 0.378\n"
          ]
        }
      ],
      "source": [
        "from sklearn.metrics import auc\n",
        "print(f'AUC : {round(auc(rec_list, prec_list),3)}')"
      ]
    },
    {
      "cell_type": "code",
      "execution_count": 19,
      "metadata": {
        "colab": {
          "base_uri": "https://localhost:8080/"
        },
        "id": "jXqR_1jurE_n",
        "outputId": "d3fc5df5-6d69-421d-9604-d344b9c3d64c"
      },
      "outputs": [
        {
          "data": {
            "text/plain": [
              "0.5104960152405768"
            ]
          },
          "execution_count": 19,
          "metadata": {},
          "output_type": "execute_result"
        }
      ],
      "source": [
        "f = (2*np.mean(rec_list)*np.mean(prec_list))/(np.mean(rec_list)+np.mean(prec_list))\n",
        "f"
      ]
    }
  ],
  "metadata": {
    "colab": {
      "collapsed_sections": [],
      "name": "1st V.ipynb",
      "provenance": []
    },
    "kernelspec": {
      "display_name": "Python 3",
      "name": "python3"
    },
    "language_info": {
      "codemirror_mode": {
        "name": "ipython",
        "version": 3
      },
      "file_extension": ".py",
      "mimetype": "text/x-python",
      "name": "python",
      "nbconvert_exporter": "python",
      "pygments_lexer": "ipython3",
      "version": "3.9.7"
    }
  },
  "nbformat": 4,
  "nbformat_minor": 0
}
