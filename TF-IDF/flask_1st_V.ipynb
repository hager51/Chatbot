{
  "nbformat": 4,
  "nbformat_minor": 0,
  "metadata": {
    "colab": {
      "name": "flask_1st_V.ipynb",
      "provenance": [],
      "collapsed_sections": []
    },
    "kernelspec": {
      "display_name": "Python 3",
      "name": "python3"
    },
    "language_info": {
      "name": "python"
    }
  },
  "cells": [
    {
      "cell_type": "code",
      "metadata": {
        "colab": {
          "base_uri": "https://localhost:8080/"
        },
        "id": "pzUxGekAyvPf",
        "outputId": "389d9b16-03c3-4cbb-87ce-5606f89f85d0"
      },
      "source": [
        "import pandas as pd\n",
        "import numpy as np\n",
        "import nltk\n",
        "nltk.download('punkt')\n",
        "from nltk.corpus import stopwords\n",
        "nltk.download('stopwords')\n",
        "nltk.download('wordnet')\n",
        "from nltk.stem import PorterStemmer\n",
        "from nltk.stem import WordNetLemmatizer\n",
        "from nltk.tokenize import sent_tokenize, word_tokenize\n",
        "from sklearn.metrics.pairwise import cosine_similarity\n",
        "from sklearn.metrics import precision_score, recall_score\n",
        "import matplotlib.pyplot as plt\n",
        "from sklearn.feature_extraction.text import TfidfVectorizer"
      ],
      "execution_count": null,
      "outputs": [
        {
          "output_type": "stream",
          "text": [
            "[nltk_data] Downloading package punkt to /root/nltk_data...\n",
            "[nltk_data]   Package punkt is already up-to-date!\n",
            "[nltk_data] Downloading package stopwords to /root/nltk_data...\n",
            "[nltk_data]   Package stopwords is already up-to-date!\n",
            "[nltk_data] Downloading package wordnet to /root/nltk_data...\n",
            "[nltk_data]   Package wordnet is already up-to-date!\n"
          ],
          "name": "stdout"
        }
      ]
    },
    {
      "cell_type": "code",
      "metadata": {
        "id": "Bbhs35A7QTad"
      },
      "source": [
        "cols = ['ID(original)', 'ID' , 'Q' , 'A']\n",
        "data = pd.read_csv('COQB-19_crowdsourced_06202020.csv', sep=',', names=cols, header=None, encoding='latin-1',skiprows=1)\n",
        "# remove nans\n",
        "data = data.dropna()\n",
        "Questions = data['Q']\n",
        "ID= data['ID'].tolist()\n",
        "corpus = Questions.tolist()\n",
        "Answers =data['A'].tolist()"
      ],
      "execution_count": null,
      "outputs": []
    },
    {
      "cell_type": "code",
      "metadata": {
        "id": "9KjXclXhwzHq"
      },
      "source": [
        "lemmatizer = WordNetLemmatizer()\n",
        "def stemSentence(sentence):\n",
        "    token_words= word_tokenize(sentence)\n",
        "    lematized_tokens = [lemmatizer.lemmatize(w) for w in token_words]\n",
        "    return \"  \".join(lematized_tokens)"
      ],
      "execution_count": null,
      "outputs": []
    },
    {
      "cell_type": "code",
      "metadata": {
        "id": "VO60ynELw1PB"
      },
      "source": [
        "stemmed_corpus = []\n",
        "SC = []\n",
        "for i in range(len(corpus)):\n",
        "  stemmed_corpus.append((i,stemSentence(corpus[i])))\n",
        "  SC.append(stemSentence(corpus[i].lower()))"
      ],
      "execution_count": null,
      "outputs": []
    },
    {
      "cell_type": "code",
      "metadata": {
        "id": "5PPxawscQW3q"
      },
      "source": [
        "from sklearn.feature_extraction.text import TfidfVectorizer\n",
        "vectorizer = TfidfVectorizer()"
      ],
      "execution_count": null,
      "outputs": []
    },
    {
      "cell_type": "code",
      "metadata": {
        "id": "0HpdB_yvQY7q"
      },
      "source": [
        "X = vectorizer.fit_transform(SC)"
      ],
      "execution_count": null,
      "outputs": []
    },
    {
      "cell_type": "code",
      "metadata": {
        "id": "MU0axiMPQZ46"
      },
      "source": [
        "mat_x = X.toarray()"
      ],
      "execution_count": null,
      "outputs": []
    },
    {
      "cell_type": "code",
      "metadata": {
        "id": "8XiVUHcwx10X"
      },
      "source": [
        "def answer_question(question):\n",
        "\n",
        "  \"\"\"  returns (top_idx,  top_idx_score, all_scores)\n",
        "  top_idx: index of most similar question\n",
        "  top_idx_score:  score of most similar question.\n",
        "  all_scores: scores of all candidates.\n",
        "  \"\"\"\n",
        "  lematized_question = stemSentence(question)\n",
        "  question_x = vectorizer.transform([lematized_question])\n",
        "  sim_scores = cosine_similarity(question_x,  mat_x).ravel()\n",
        "  top_idx = np.argmax(sim_scores)\n",
        "  return Answers[stemmed_corpus[top_idx][0]]"
      ],
      "execution_count": null,
      "outputs": []
    },
    {
      "cell_type": "code",
      "metadata": {
        "id": "piDeO0yA8fRg"
      },
      "source": [
        "import os\n",
        "\n",
        "if not os.path.exists('templates'):\n",
        "  os.makedirs('templates')\n",
        "if not os.path.exists('static'):\n",
        "  os.makedirs('static')"
      ],
      "execution_count": null,
      "outputs": []
    },
    {
      "cell_type": "code",
      "metadata": {
        "id": "ODkqbr3j8f_T"
      },
      "source": [
        "home= '''\n",
        "\n",
        "<!DOCTYPE html>\n",
        "<html lang=\"en\">\n",
        "\n",
        "<head>\n",
        "  <meta charset=\"UTF-8\">\n",
        "  <title>InferMedica Chatbot</title>\n",
        "  <meta charset=\"UTF-8\">\n",
        "  <meta name=\"viewport\" content=\"width=device-width, initial-scale=1.0\">\n",
        "  <meta http-equiv=\"X-UA-Compatible\" content=\"ie=edge\">\n",
        "  <link rel=\"stylesheet\" href=\"/static/style.css\">\n",
        "  <script src=\"https://ajax.googleapis.com/ajax/libs/jquery/3.2.1/jquery.min.js\"></script>\n",
        "</head>\n",
        "\n",
        "<body>\n",
        "  <!-- partial:index.partial.html -->\n",
        "  <section class=\"msger\">\n",
        "    <header class=\"msger-header\">\n",
        "      <div class=\"msger-header-title\">\n",
        "        <i></i> InferMedica Chatbot <i></i>\n",
        "      </div>\n",
        "    </header>\n",
        "\n",
        "    <main class=\"msger-chat\">\n",
        "      <div class=\"msg left-msg\">\n",
        "        <div class=\"msg-img\" style=\"background-image: url(https://image.flaticon.com/icons/svg/327/327779.svg)\"></div>\n",
        "\n",
        "        <div class=\"msg-bubble\">\n",
        "          <div class=\"msg-info\">\n",
        "            <div class=\"msg-info-name\">InferMedica</div>\n",
        "        \n",
        "          </div>\n",
        "\n",
        "          <div class=\"msg-text\">\n",
        "            Hi, welcome to InferMedica ChatBot! How can I help you?! 😄\n",
        "          </div>\n",
        "        </div>\n",
        "      </div>\n",
        "\n",
        "    </main>\n",
        "\n",
        "    <form class=\"msger-inputarea\">\n",
        "      <input type=\"text\" class=\"msger-input\" id=\"textInput\" placeholder=\"Type your message...\">\n",
        "      <button type=\"submit\" class=\"msger-send-btn\">Send</button>\n",
        "    </form>\n",
        "  </section>\n",
        "  <!-- partial -->\n",
        "  <script src='https://use.fontawesome.com/releases/v5.0.13/js/all.js'></script>\n",
        "  <script>\n",
        "\n",
        "    const msgerForm = get(\".msger-inputarea\");\n",
        "    const msgerInput = get(\".msger-input\");\n",
        "    const msgerChat = get(\".msger-chat\");\n",
        "\n",
        "\n",
        "    // Icons made by Freepik from www.flaticon.com\n",
        "    const BOT_IMG = \"https://image.flaticon.com/icons/svg/327/327779.svg\";\n",
        "    const PERSON_IMG = \"https://image.flaticon.com/icons/svg/145/145867.svg\";\n",
        "    const BOT_NAME = \"ChatBot\";\n",
        "    const PERSON_NAME = \"You\";\n",
        "\n",
        "    msgerForm.addEventListener(\"submit\", event => {\n",
        "      event.preventDefault();\n",
        "\n",
        "      const msgText = msgerInput.value;\n",
        "      if (!msgText) return;\n",
        "\n",
        "      appendMessage(PERSON_NAME, PERSON_IMG, \"right\", msgText);\n",
        "      msgerInput.value = \"\";\n",
        "      botResponse(msgText);\n",
        "    });\n",
        "\n",
        "    function appendMessage(name, img, side, text) {\n",
        "      //   Simple solution for small apps\n",
        "      const msgHTML = `\n",
        "<div class=\"msg ${side}-msg\">\n",
        "  <div class=\"msg-img\" style=\"background-image: url(${img})\"></div>\n",
        "\n",
        "  <div class=\"msg-bubble\">\n",
        "    <div class=\"msg-info\">\n",
        "      <div class=\"msg-info-name\">${name}</div>\n",
        "      <div class=\"msg-info-time\">${formatDate(new Date())}</div>\n",
        "    </div>\n",
        "\n",
        "    <div class=\"msg-text\">${text}</div>\n",
        "  </div>\n",
        "</div>\n",
        "`;\n",
        "\n",
        "      msgerChat.insertAdjacentHTML(\"beforeend\", msgHTML);\n",
        "      msgerChat.scrollTop += 500;\n",
        "    }\n",
        "\n",
        "    function botResponse(rawText) {\n",
        "\n",
        "      // Bot Response\n",
        "      $.get(\"/get\", { msg: rawText }).done(function (data) {\n",
        "        console.log(rawText);\n",
        "        console.log(data);\n",
        "        const msgText = data;\n",
        "        appendMessage(BOT_NAME, BOT_IMG, \"left\", msgText);\n",
        "\n",
        "      });\n",
        "\n",
        "    }\n",
        "\n",
        "\n",
        "    // Utils\n",
        "    function get(selector, root = document) {\n",
        "      return root.querySelector(selector);\n",
        "    }\n",
        "\n",
        "    function formatDate(date) {\n",
        "      const h = \"0\" + date.getHours();\n",
        "      const m = \"0\" + date.getMinutes();\n",
        "\n",
        "      return `${h.slice(-2)}:${m.slice(-2)}`;\n",
        "    }\n",
        "\n",
        "\n",
        "\n",
        "  </script>\n",
        "\n",
        "</body>\n",
        "\n",
        "</html>\n",
        "'''\n",
        "\n",
        "\n",
        "file=open(\"templates/home.html\", \"w\")\n",
        "file.write(home)\n",
        "file.close()\n"
      ],
      "execution_count": null,
      "outputs": []
    },
    {
      "cell_type": "code",
      "metadata": {
        "colab": {
          "base_uri": "https://localhost:8080/"
        },
        "id": "ODosGrkG8ir1",
        "outputId": "9813b72e-bc9b-4bb5-d713-90ccc2d3298e"
      },
      "source": [
        "!pip install flask-ngrok\n",
        "from flask import Flask, render_template, request, redirect, url_for\n",
        "from flask_ngrok import run_with_ngrok\n",
        "app = Flask(__name__)\n",
        "run_with_ngrok(app)   \n",
        "  \n",
        "app.static_folder = 'static'\n",
        "@app.route(\"/\")\n",
        "def home():\n",
        "    return render_template(\"home.html\")\n",
        "@app.route(\"/get\")\n",
        "def get_bot_response():\n",
        "    userText = request.args.get('msg')\n",
        "    return answer_question(userText)\n",
        "    \n",
        "app.run()\n"
      ],
      "execution_count": null,
      "outputs": [
        {
          "output_type": "stream",
          "text": [
            "Requirement already satisfied: flask-ngrok in /usr/local/lib/python3.7/dist-packages (0.0.25)\n",
            "Requirement already satisfied: requests in /usr/local/lib/python3.7/dist-packages (from flask-ngrok) (2.23.0)\n",
            "Requirement already satisfied: Flask>=0.8 in /usr/local/lib/python3.7/dist-packages (from flask-ngrok) (1.1.4)\n",
            "Requirement already satisfied: urllib3!=1.25.0,!=1.25.1,<1.26,>=1.21.1 in /usr/local/lib/python3.7/dist-packages (from requests->flask-ngrok) (1.24.3)\n",
            "Requirement already satisfied: chardet<4,>=3.0.2 in /usr/local/lib/python3.7/dist-packages (from requests->flask-ngrok) (3.0.4)\n",
            "Requirement already satisfied: idna<3,>=2.5 in /usr/local/lib/python3.7/dist-packages (from requests->flask-ngrok) (2.10)\n",
            "Requirement already satisfied: certifi>=2017.4.17 in /usr/local/lib/python3.7/dist-packages (from requests->flask-ngrok) (2021.5.30)\n",
            "Requirement already satisfied: Jinja2<3.0,>=2.10.1 in /usr/local/lib/python3.7/dist-packages (from Flask>=0.8->flask-ngrok) (2.11.3)\n",
            "Requirement already satisfied: itsdangerous<2.0,>=0.24 in /usr/local/lib/python3.7/dist-packages (from Flask>=0.8->flask-ngrok) (1.1.0)\n",
            "Requirement already satisfied: Werkzeug<2.0,>=0.15 in /usr/local/lib/python3.7/dist-packages (from Flask>=0.8->flask-ngrok) (1.0.1)\n",
            "Requirement already satisfied: click<8.0,>=5.1 in /usr/local/lib/python3.7/dist-packages (from Flask>=0.8->flask-ngrok) (7.1.2)\n",
            "Requirement already satisfied: MarkupSafe>=0.23 in /usr/local/lib/python3.7/dist-packages (from Jinja2<3.0,>=2.10.1->Flask>=0.8->flask-ngrok) (2.0.1)\n",
            " * Serving Flask app \"__main__\" (lazy loading)\n",
            " * Environment: production\n",
            "\u001b[31m   WARNING: This is a development server. Do not use it in a production deployment.\u001b[0m\n",
            "\u001b[2m   Use a production WSGI server instead.\u001b[0m\n",
            " * Debug mode: off\n"
          ],
          "name": "stdout"
        },
        {
          "output_type": "stream",
          "text": [
            " * Running on http://127.0.0.1:5000/ (Press CTRL+C to quit)\n"
          ],
          "name": "stderr"
        },
        {
          "output_type": "stream",
          "text": [
            " * Running on http://2014cf7031af.ngrok.io\n",
            " * Traffic stats available on http://127.0.0.1:4040\n"
          ],
          "name": "stdout"
        },
        {
          "output_type": "stream",
          "text": [
            "127.0.0.1 - - [15/Jul/2021 16:50:37] \"\u001b[37mGET / HTTP/1.1\u001b[0m\" 200 -\n",
            "127.0.0.1 - - [15/Jul/2021 16:50:38] \"\u001b[37mGET /static/style.css HTTP/1.1\u001b[0m\" 200 -\n",
            "127.0.0.1 - - [15/Jul/2021 16:50:38] \"\u001b[37mGET /static/medical.jpg HTTP/1.1\u001b[0m\" 200 -\n",
            "127.0.0.1 - - [15/Jul/2021 16:50:43] \"\u001b[33mGET /favicon.ico HTTP/1.1\u001b[0m\" 404 -\n",
            "127.0.0.1 - - [15/Jul/2021 16:50:43] \"\u001b[37mGET /get?msg=hi HTTP/1.1\u001b[0m\" 200 -\n",
            "127.0.0.1 - - [15/Jul/2021 16:50:48] \"\u001b[37mGET /get?msg=what%20is%20your%20name%3F HTTP/1.1\u001b[0m\" 200 -\n",
            "127.0.0.1 - - [15/Jul/2021 16:50:56] \"\u001b[37mGET /get?msg=how%20are%20you%3F HTTP/1.1\u001b[0m\" 200 -\n",
            "127.0.0.1 - - [15/Jul/2021 16:51:02] \"\u001b[37mGET /get?msg=who%20are%20you%3F HTTP/1.1\u001b[0m\" 200 -\n"
          ],
          "name": "stderr"
        }
      ]
    }
  ]
}