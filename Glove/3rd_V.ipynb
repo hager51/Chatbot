{
  "nbformat": 4,
  "nbformat_minor": 0,
  "metadata": {
    "colab": {
      "name": "Copy of Copy of version 3 with glove COVID-19 QA .ipynb",
      "provenance": [],
      "collapsed_sections": []
    },
    "interpreter": {
      "hash": "d2fd0105920c50c8c37895c01260c2dbdfc4755f11691a0b0d9bbf5316334ede"
    },
    "kernelspec": {
      "display_name": "Python 3.7.0 64-bit",
      "name": "python3"
    },
    "language_info": {
      "codemirror_mode": {
        "name": "ipython",
        "version": 3
      },
      "file_extension": ".py",
      "mimetype": "text/x-python",
      "name": "python",
      "nbconvert_exporter": "python",
      "pygments_lexer": "ipython3",
      "version": "3.7.0"
    }
  },
  "cells": [
    {
      "cell_type": "code",
      "metadata": {
        "colab": {
          "base_uri": "https://localhost:8080/"
        },
        "id": "5d9UXBUibrEg",
        "outputId": "e7a853f8-536a-424e-d084-ab5be49a7261"
      },
      "source": [
        "# Download GloVe embeddings\n",
        "!  gdown --id 1DKTVDj3U3dT93EtjrhPNS5kA6mF2t0D0\n",
        "# Downloadd dataset\n",
        "!  gdown --id 1R7bnlwW1xUHR5_L6K1ejhYKJlOQoYFSG"
      ],
      "execution_count": 1,
      "outputs": [
        {
          "output_type": "stream",
          "text": [
            "Downloading...\n",
            "From: https://drive.google.com/uc?id=1DKTVDj3U3dT93EtjrhPNS5kA6mF2t0D0\n",
            "To: /content/glove.6B.50d.txt\n",
            "171MB [00:01, 96.8MB/s]\n",
            "Downloading...\n",
            "From: https://drive.google.com/uc?id=1R7bnlwW1xUHR5_L6K1ejhYKJlOQoYFSG\n",
            "To: /content/COQB-19_crowdsourced_06202020.csv\n",
            "100% 907k/907k [00:00<00:00, 14.3MB/s]\n"
          ],
          "name": "stdout"
        }
      ]
    },
    {
      "cell_type": "code",
      "metadata": {
        "id": "sbR-XMMvdqDI",
        "colab": {
          "base_uri": "https://localhost:8080/"
        },
        "outputId": "05c5c8e6-0b66-4137-d4dc-098cf0f9d275"
      },
      "source": [
        "import pandas as pd\n",
        "import numpy as np\n",
        "import nltk\n",
        "nltk.download('punkt')\n",
        "from nltk.corpus import stopwords\n",
        "nltk.download('stopwords')\n",
        "nltk.download('wordnet')\n",
        "from nltk.stem import PorterStemmer\n",
        "from nltk.stem import WordNetLemmatizer\n",
        "from nltk.tokenize import sent_tokenize, word_tokenize\n",
        "from sklearn.metrics.pairwise import cosine_similarity\n",
        "from sklearn.metrics import precision_score, recall_score\n",
        "import matplotlib.pyplot as plt"
      ],
      "execution_count": 2,
      "outputs": [
        {
          "output_type": "stream",
          "text": [
            "[nltk_data] Downloading package punkt to /root/nltk_data...\n",
            "[nltk_data]   Unzipping tokenizers/punkt.zip.\n",
            "[nltk_data] Downloading package stopwords to /root/nltk_data...\n",
            "[nltk_data]   Unzipping corpora/stopwords.zip.\n",
            "[nltk_data] Downloading package wordnet to /root/nltk_data...\n",
            "[nltk_data]   Unzipping corpora/wordnet.zip.\n"
          ],
          "name": "stdout"
        }
      ]
    },
    {
      "cell_type": "code",
      "metadata": {
        "id": "N2KZSA-_d3ff"
      },
      "source": [
        "cols = ['ID(original)', 'ID' , 'Q' , 'A']\n",
        "data = pd.read_csv('COQB-19_crowdsourced_06202020.csv', sep=',', names=cols, header=None, encoding='latin-1',skiprows=1)\n",
        "data = data.dropna()\n",
        "Questions = data['Q']\n",
        "ID= data['ID'].tolist()\n",
        "corpus = Questions.tolist()\n",
        "Answers =data['A'].tolist()"
      ],
      "execution_count": 3,
      "outputs": []
    },
    {
      "cell_type": "code",
      "metadata": {
        "id": "ljTojFBmhkRF"
      },
      "source": [
        "lemmatizer = WordNetLemmatizer()\n",
        "def stemSentence(sentence):\n",
        "    token_words= word_tokenize(sentence)\n",
        "    lematized_tokens = [lemmatizer.lemmatize(w) for w in token_words]\n",
        "    return \"  \".join(lematized_tokens)"
      ],
      "execution_count": 4,
      "outputs": []
    },
    {
      "cell_type": "code",
      "metadata": {
        "id": "n1Bze5hWhnQQ"
      },
      "source": [
        "stemmed_corpus = []\n",
        "for i in range(len(corpus)):\n",
        "  stemmed_corpus.append((i,stemSentence(corpus[i])))"
      ],
      "execution_count": 30,
      "outputs": []
    },
    {
      "cell_type": "code",
      "metadata": {
        "id": "nefKMc4UvCJd"
      },
      "source": [
        "def load_glove_model(glove_file):\n",
        "    model = {}\n",
        "    f = open(glove_file + \".txt\", 'r', encoding='utf-8')\n",
        "    for line in f:\n",
        "        split_line = line.split()\n",
        "        word = split_line[0]\n",
        "        embedding = np.array([float(val) for val in split_line[1:]])\n",
        "        model[word] = embedding\n",
        "    return model"
      ],
      "execution_count": 6,
      "outputs": []
    },
    {
      "cell_type": "code",
      "metadata": {
        "id": "1Ykx_A5bcHaX"
      },
      "source": [
        "glove = load_glove_model(\"glove.6B.50d\")\n",
        "glove_dim = 50"
      ],
      "execution_count": 10,
      "outputs": []
    },
    {
      "cell_type": "code",
      "metadata": {
        "id": "mzGP29vAoQV-"
      },
      "source": [
        "def encode_sentence_as_vector(sentence, model):\n",
        "  sentence_tokens = sentence.split()\n",
        "  sentence_array = np.zeros(shape=(len(sentence_tokens), glove_dim))\n",
        "  for i,w in enumerate(sentence_tokens):\n",
        "    if w in model:\n",
        "      sentence_array[i,:] = model[w]\n",
        "  sentence_vec = np.mean(sentence_array, axis=0)\n",
        "  return sentence_vec.reshape((1,-1))"
      ],
      "execution_count": 22,
      "outputs": []
    },
    {
      "cell_type": "code",
      "metadata": {
        "id": "NfdLNiWl2xU2",
        "colab": {
          "base_uri": "https://localhost:8080/"
        },
        "outputId": "08796b0b-573d-4441-e690-8b37f491b814"
      },
      "source": [
        "X = []\n",
        "Q = np.zeros((len(stemmed_corpus),glove_dim), dtype=np.float64)\n",
        "for i in range(len(stemmed_corpus)):\n",
        "  Q[i,:] = encode_sentence_as_vector(stemmed_corpus[i][1], glove)\n",
        "Q"
      ],
      "execution_count": 32,
      "outputs": [
        {
          "output_type": "execute_result",
          "data": {
            "text/plain": [
              "array([[ 0.56617667, -0.00320167,  0.08669417, ..., -0.07178177,\n",
              "         0.18564167,  0.19455183],\n",
              "       [-0.14798833,  0.06607333,  0.33847417, ..., -0.29220917,\n",
              "         0.11753167,  0.527162  ],\n",
              "       [ 0.23657143,  0.27476771,  0.16698929, ...,  0.22218429,\n",
              "         0.16893429,  0.44120557],\n",
              "       ...,\n",
              "       [ 0.0275    ,  0.126692  ,  0.069227  , ..., -0.05239   ,\n",
              "        -0.004068  ,  0.412414  ],\n",
              "       [ 0.35022414,  0.31170257,  0.06955357, ...,  0.19326786,\n",
              "         0.10614154,  0.19616571],\n",
              "       [ 0.40309833,  0.22314667,  0.26248417, ..., -0.12156383,\n",
              "        -0.10294333,  0.38326833]])"
            ]
          },
          "metadata": {
            "tags": []
          },
          "execution_count": 32
        }
      ]
    },
    {
      "cell_type": "code",
      "metadata": {
        "id": "u9Uyy3yYeXYy"
      },
      "source": [
        "def answer_question(question, corpus_X):\n",
        "  \"\"\"  returns (top_idx,  top_idx_score, all_scores)\n",
        "  top_idx: index of most similar question\n",
        "  top_idx_score:  score of most similar question.\n",
        "  all_scores: scores of all candidates.\n",
        "  \"\"\"\n",
        "  lematized_question = stemSentence(question)\n",
        "  question_x = encode_sentence_as_vector(lematized_question, glove)\n",
        "  sim_scores = cosine_similarity(question_x,  corpus_X).ravel()\n",
        "  top_idx = np.argmax(sim_scores)\n",
        "  return top_idx, sim_scores[top_idx], sim_scores\n"
      ],
      "execution_count": 13,
      "outputs": []
    },
    {
      "cell_type": "code",
      "metadata": {
        "colab": {
          "base_uri": "https://localhost:8080/"
        },
        "id": "Gb0azSRvfUV2",
        "outputId": "b9bcc615-a7cb-4204-823d-88de843a23ea"
      },
      "source": [
        "test_question = 'does covid affect young people more?'\n",
        "answer_idx, answer_score,_ = answer_question(test_question, Q)\n",
        "print('Similarity score = ', answer_score)\n",
        "print('Most similiar question: ', corpus[stemmed_corpus[answer_idx][0]])\n",
        "print('suggested answer: ', Answers[stemmed_corpus[answer_idx][0]])"
      ],
      "execution_count": 14,
      "outputs": [
        {
          "output_type": "stream",
          "text": [
            "Similarity score =  0.9772328324880535\n",
            "Most similiar question:  Do young people die from COVID-19?\n",
            "suggested answer:  COVID-19 is an equal opportunity virus. The mortality rate is varied across some demographic segments, but it impacts all groups of people.\n"
          ],
          "name": "stdout"
        }
      ]
    },
    {
      "cell_type": "code",
      "metadata": {
        "id": "TZSiB7490hhE"
      },
      "source": [
        "def compute_precision_recall_at_threshold(corpus, ids, corpus_X, threshold):\n",
        "  precision_list = []\n",
        "  recall_list = []\n",
        "  for i,test_doc in enumerate(corpus):\n",
        "    if i%20 != 0:\n",
        "    # this is done only to speed calculations a bit. we compute metrics based\n",
        "    # on 5% of data.\n",
        "      continue\n",
        "    _,_,  scores = answer_question(test_doc, corpus_X)\n",
        "    preds = scores >= threshold\n",
        "    labels = np.array([a_id==ids[i] for a_id in ids])\n",
        "    precision_list.append(precision_score(labels, preds))\n",
        "    recall_list.append(recall_score(labels, preds))\n",
        "  return np.mean(precision_list),  np.mean(recall_list)"
      ],
      "execution_count": 15,
      "outputs": []
    },
    {
      "cell_type": "code",
      "metadata": {
        "colab": {
          "base_uri": "https://localhost:8080/"
        },
        "id": "S3OoAPqg0VZ9",
        "outputId": "35341464-6709-4d61-ae0c-20091b2231c9"
      },
      "source": [
        "probability_thresholds = np.linspace(0,1, num=50)\n",
        "prec_list =[]\n",
        "rec_list =[]\n",
        "for threshold in probability_thresholds:\n",
        "  cur_prec, cur_rec = compute_precision_recall_at_threshold(corpus, ID,  Q,threshold)\n",
        "  prec_list.append(cur_prec)\n",
        "  rec_list.append(cur_rec)"
      ],
      "execution_count": 16,
      "outputs": [
        {
          "output_type": "stream",
          "text": [
            "/usr/local/lib/python3.7/dist-packages/sklearn/metrics/_classification.py:1272: UndefinedMetricWarning: Precision is ill-defined and being set to 0.0 due to no predicted samples. Use `zero_division` parameter to control this behavior.\n",
            "  _warn_prf(average, modifier, msg_start, len(result))\n",
            "/usr/local/lib/python3.7/dist-packages/sklearn/metrics/_classification.py:1272: UndefinedMetricWarning: Precision is ill-defined and being set to 0.0 due to no predicted samples. Use `zero_division` parameter to control this behavior.\n",
            "  _warn_prf(average, modifier, msg_start, len(result))\n",
            "/usr/local/lib/python3.7/dist-packages/sklearn/metrics/_classification.py:1272: UndefinedMetricWarning: Precision is ill-defined and being set to 0.0 due to no predicted samples. Use `zero_division` parameter to control this behavior.\n",
            "  _warn_prf(average, modifier, msg_start, len(result))\n",
            "/usr/local/lib/python3.7/dist-packages/sklearn/metrics/_classification.py:1272: UndefinedMetricWarning: Precision is ill-defined and being set to 0.0 due to no predicted samples. Use `zero_division` parameter to control this behavior.\n",
            "  _warn_prf(average, modifier, msg_start, len(result))\n",
            "/usr/local/lib/python3.7/dist-packages/sklearn/metrics/_classification.py:1272: UndefinedMetricWarning: Precision is ill-defined and being set to 0.0 due to no predicted samples. Use `zero_division` parameter to control this behavior.\n",
            "  _warn_prf(average, modifier, msg_start, len(result))\n",
            "/usr/local/lib/python3.7/dist-packages/sklearn/metrics/_classification.py:1272: UndefinedMetricWarning: Precision is ill-defined and being set to 0.0 due to no predicted samples. Use `zero_division` parameter to control this behavior.\n",
            "  _warn_prf(average, modifier, msg_start, len(result))\n",
            "/usr/local/lib/python3.7/dist-packages/sklearn/metrics/_classification.py:1272: UndefinedMetricWarning: Precision is ill-defined and being set to 0.0 due to no predicted samples. Use `zero_division` parameter to control this behavior.\n",
            "  _warn_prf(average, modifier, msg_start, len(result))\n",
            "/usr/local/lib/python3.7/dist-packages/sklearn/metrics/_classification.py:1272: UndefinedMetricWarning: Precision is ill-defined and being set to 0.0 due to no predicted samples. Use `zero_division` parameter to control this behavior.\n",
            "  _warn_prf(average, modifier, msg_start, len(result))\n",
            "/usr/local/lib/python3.7/dist-packages/sklearn/metrics/_classification.py:1272: UndefinedMetricWarning: Precision is ill-defined and being set to 0.0 due to no predicted samples. Use `zero_division` parameter to control this behavior.\n",
            "  _warn_prf(average, modifier, msg_start, len(result))\n",
            "/usr/local/lib/python3.7/dist-packages/sklearn/metrics/_classification.py:1272: UndefinedMetricWarning: Precision is ill-defined and being set to 0.0 due to no predicted samples. Use `zero_division` parameter to control this behavior.\n",
            "  _warn_prf(average, modifier, msg_start, len(result))\n",
            "/usr/local/lib/python3.7/dist-packages/sklearn/metrics/_classification.py:1272: UndefinedMetricWarning: Precision is ill-defined and being set to 0.0 due to no predicted samples. Use `zero_division` parameter to control this behavior.\n",
            "  _warn_prf(average, modifier, msg_start, len(result))\n",
            "/usr/local/lib/python3.7/dist-packages/sklearn/metrics/_classification.py:1272: UndefinedMetricWarning: Precision is ill-defined and being set to 0.0 due to no predicted samples. Use `zero_division` parameter to control this behavior.\n",
            "  _warn_prf(average, modifier, msg_start, len(result))\n",
            "/usr/local/lib/python3.7/dist-packages/sklearn/metrics/_classification.py:1272: UndefinedMetricWarning: Precision is ill-defined and being set to 0.0 due to no predicted samples. Use `zero_division` parameter to control this behavior.\n",
            "  _warn_prf(average, modifier, msg_start, len(result))\n",
            "/usr/local/lib/python3.7/dist-packages/sklearn/metrics/_classification.py:1272: UndefinedMetricWarning: Precision is ill-defined and being set to 0.0 due to no predicted samples. Use `zero_division` parameter to control this behavior.\n",
            "  _warn_prf(average, modifier, msg_start, len(result))\n",
            "/usr/local/lib/python3.7/dist-packages/sklearn/metrics/_classification.py:1272: UndefinedMetricWarning: Precision is ill-defined and being set to 0.0 due to no predicted samples. Use `zero_division` parameter to control this behavior.\n",
            "  _warn_prf(average, modifier, msg_start, len(result))\n",
            "/usr/local/lib/python3.7/dist-packages/sklearn/metrics/_classification.py:1272: UndefinedMetricWarning: Precision is ill-defined and being set to 0.0 due to no predicted samples. Use `zero_division` parameter to control this behavior.\n",
            "  _warn_prf(average, modifier, msg_start, len(result))\n",
            "/usr/local/lib/python3.7/dist-packages/sklearn/metrics/_classification.py:1272: UndefinedMetricWarning: Precision is ill-defined and being set to 0.0 due to no predicted samples. Use `zero_division` parameter to control this behavior.\n",
            "  _warn_prf(average, modifier, msg_start, len(result))\n",
            "/usr/local/lib/python3.7/dist-packages/sklearn/metrics/_classification.py:1272: UndefinedMetricWarning: Precision is ill-defined and being set to 0.0 due to no predicted samples. Use `zero_division` parameter to control this behavior.\n",
            "  _warn_prf(average, modifier, msg_start, len(result))\n",
            "/usr/local/lib/python3.7/dist-packages/sklearn/metrics/_classification.py:1272: UndefinedMetricWarning: Precision is ill-defined and being set to 0.0 due to no predicted samples. Use `zero_division` parameter to control this behavior.\n",
            "  _warn_prf(average, modifier, msg_start, len(result))\n",
            "/usr/local/lib/python3.7/dist-packages/sklearn/metrics/_classification.py:1272: UndefinedMetricWarning: Precision is ill-defined and being set to 0.0 due to no predicted samples. Use `zero_division` parameter to control this behavior.\n",
            "  _warn_prf(average, modifier, msg_start, len(result))\n",
            "/usr/local/lib/python3.7/dist-packages/sklearn/metrics/_classification.py:1272: UndefinedMetricWarning: Precision is ill-defined and being set to 0.0 due to no predicted samples. Use `zero_division` parameter to control this behavior.\n",
            "  _warn_prf(average, modifier, msg_start, len(result))\n",
            "/usr/local/lib/python3.7/dist-packages/sklearn/metrics/_classification.py:1272: UndefinedMetricWarning: Precision is ill-defined and being set to 0.0 due to no predicted samples. Use `zero_division` parameter to control this behavior.\n",
            "  _warn_prf(average, modifier, msg_start, len(result))\n",
            "/usr/local/lib/python3.7/dist-packages/sklearn/metrics/_classification.py:1272: UndefinedMetricWarning: Precision is ill-defined and being set to 0.0 due to no predicted samples. Use `zero_division` parameter to control this behavior.\n",
            "  _warn_prf(average, modifier, msg_start, len(result))\n",
            "/usr/local/lib/python3.7/dist-packages/sklearn/metrics/_classification.py:1272: UndefinedMetricWarning: Precision is ill-defined and being set to 0.0 due to no predicted samples. Use `zero_division` parameter to control this behavior.\n",
            "  _warn_prf(average, modifier, msg_start, len(result))\n",
            "/usr/local/lib/python3.7/dist-packages/sklearn/metrics/_classification.py:1272: UndefinedMetricWarning: Precision is ill-defined and being set to 0.0 due to no predicted samples. Use `zero_division` parameter to control this behavior.\n",
            "  _warn_prf(average, modifier, msg_start, len(result))\n",
            "/usr/local/lib/python3.7/dist-packages/sklearn/metrics/_classification.py:1272: UndefinedMetricWarning: Precision is ill-defined and being set to 0.0 due to no predicted samples. Use `zero_division` parameter to control this behavior.\n",
            "  _warn_prf(average, modifier, msg_start, len(result))\n",
            "/usr/local/lib/python3.7/dist-packages/sklearn/metrics/_classification.py:1272: UndefinedMetricWarning: Precision is ill-defined and being set to 0.0 due to no predicted samples. Use `zero_division` parameter to control this behavior.\n",
            "  _warn_prf(average, modifier, msg_start, len(result))\n",
            "/usr/local/lib/python3.7/dist-packages/sklearn/metrics/_classification.py:1272: UndefinedMetricWarning: Precision is ill-defined and being set to 0.0 due to no predicted samples. Use `zero_division` parameter to control this behavior.\n",
            "  _warn_prf(average, modifier, msg_start, len(result))\n",
            "/usr/local/lib/python3.7/dist-packages/sklearn/metrics/_classification.py:1272: UndefinedMetricWarning: Precision is ill-defined and being set to 0.0 due to no predicted samples. Use `zero_division` parameter to control this behavior.\n",
            "  _warn_prf(average, modifier, msg_start, len(result))\n",
            "/usr/local/lib/python3.7/dist-packages/sklearn/metrics/_classification.py:1272: UndefinedMetricWarning: Precision is ill-defined and being set to 0.0 due to no predicted samples. Use `zero_division` parameter to control this behavior.\n",
            "  _warn_prf(average, modifier, msg_start, len(result))\n",
            "/usr/local/lib/python3.7/dist-packages/sklearn/metrics/_classification.py:1272: UndefinedMetricWarning: Precision is ill-defined and being set to 0.0 due to no predicted samples. Use `zero_division` parameter to control this behavior.\n",
            "  _warn_prf(average, modifier, msg_start, len(result))\n",
            "/usr/local/lib/python3.7/dist-packages/sklearn/metrics/_classification.py:1272: UndefinedMetricWarning: Precision is ill-defined and being set to 0.0 due to no predicted samples. Use `zero_division` parameter to control this behavior.\n",
            "  _warn_prf(average, modifier, msg_start, len(result))\n",
            "/usr/local/lib/python3.7/dist-packages/sklearn/metrics/_classification.py:1272: UndefinedMetricWarning: Precision is ill-defined and being set to 0.0 due to no predicted samples. Use `zero_division` parameter to control this behavior.\n",
            "  _warn_prf(average, modifier, msg_start, len(result))\n",
            "/usr/local/lib/python3.7/dist-packages/sklearn/metrics/_classification.py:1272: UndefinedMetricWarning: Precision is ill-defined and being set to 0.0 due to no predicted samples. Use `zero_division` parameter to control this behavior.\n",
            "  _warn_prf(average, modifier, msg_start, len(result))\n",
            "/usr/local/lib/python3.7/dist-packages/sklearn/metrics/_classification.py:1272: UndefinedMetricWarning: Precision is ill-defined and being set to 0.0 due to no predicted samples. Use `zero_division` parameter to control this behavior.\n",
            "  _warn_prf(average, modifier, msg_start, len(result))\n",
            "/usr/local/lib/python3.7/dist-packages/sklearn/metrics/_classification.py:1272: UndefinedMetricWarning: Precision is ill-defined and being set to 0.0 due to no predicted samples. Use `zero_division` parameter to control this behavior.\n",
            "  _warn_prf(average, modifier, msg_start, len(result))\n",
            "/usr/local/lib/python3.7/dist-packages/sklearn/metrics/_classification.py:1272: UndefinedMetricWarning: Precision is ill-defined and being set to 0.0 due to no predicted samples. Use `zero_division` parameter to control this behavior.\n",
            "  _warn_prf(average, modifier, msg_start, len(result))\n",
            "/usr/local/lib/python3.7/dist-packages/sklearn/metrics/_classification.py:1272: UndefinedMetricWarning: Precision is ill-defined and being set to 0.0 due to no predicted samples. Use `zero_division` parameter to control this behavior.\n",
            "  _warn_prf(average, modifier, msg_start, len(result))\n",
            "/usr/local/lib/python3.7/dist-packages/sklearn/metrics/_classification.py:1272: UndefinedMetricWarning: Precision is ill-defined and being set to 0.0 due to no predicted samples. Use `zero_division` parameter to control this behavior.\n",
            "  _warn_prf(average, modifier, msg_start, len(result))\n",
            "/usr/local/lib/python3.7/dist-packages/sklearn/metrics/_classification.py:1272: UndefinedMetricWarning: Precision is ill-defined and being set to 0.0 due to no predicted samples. Use `zero_division` parameter to control this behavior.\n",
            "  _warn_prf(average, modifier, msg_start, len(result))\n",
            "/usr/local/lib/python3.7/dist-packages/sklearn/metrics/_classification.py:1272: UndefinedMetricWarning: Precision is ill-defined and being set to 0.0 due to no predicted samples. Use `zero_division` parameter to control this behavior.\n",
            "  _warn_prf(average, modifier, msg_start, len(result))\n",
            "/usr/local/lib/python3.7/dist-packages/sklearn/metrics/_classification.py:1272: UndefinedMetricWarning: Precision is ill-defined and being set to 0.0 due to no predicted samples. Use `zero_division` parameter to control this behavior.\n",
            "  _warn_prf(average, modifier, msg_start, len(result))\n"
          ],
          "name": "stderr"
        }
      ]
    },
    {
      "cell_type": "code",
      "metadata": {
        "colab": {
          "base_uri": "https://localhost:8080/",
          "height": 296
        },
        "id": "cRnP_V1X4JmV",
        "outputId": "7f5f32fb-afb3-41e7-9bad-404152b2c16f"
      },
      "source": [
        "plt.plot(rec_list,  prec_list)\n",
        "plt.xlabel('recall')\n",
        "plt.ylabel('precision')"
      ],
      "execution_count": 17,
      "outputs": [
        {
          "output_type": "execute_result",
          "data": {
            "text/plain": [
              "Text(0, 0.5, 'precision')"
            ]
          },
          "metadata": {
            "tags": []
          },
          "execution_count": 17
        },
        {
          "output_type": "display_data",
          "data": {
            "image/png": "[encoded data removed]",
            "text/plain": [
              "<Figure size 432x288 with 1 Axes>"
            ]
          },
          "metadata": {
            "tags": [],
            "needs_background": "light"
          }
        }
      ]
    },
    {
      "cell_type": "markdown",
      "metadata": {
        "id": "sO920p3T_CfT"
      },
      "source": [
        "## compute recall at 5."
      ]
    },
    {
      "cell_type": "code",
      "metadata": {
        "id": "oVPLUYOn_E4O"
      },
      "source": [
        "def compute_prec_recall_at_k(corpus, ids, corpus_X, k=5):\n",
        "  prec_at_k_list = []\n",
        "  recall_at_k_list = []\n",
        "  for i,test_doc in enumerate(corpus):\n",
        "    if i%20 != 0:\n",
        "    # this is done only to speed calculations a bit. we compute metrics based\n",
        "    # on 5% of data.\n",
        "      continue\n",
        "    _,_,  scores = answer_question(test_doc, corpus_X)\n",
        "    top_k_idx = np.argsort(scores)[::-1][:k]\n",
        "    top_k_labels = [ids[idx] for idx in top_k_idx]\n",
        "    num_true_labels = np.sum([a_id==ids[i] for a_id in ids])\n",
        "    num_true_in_top_k = np.sum([a_id==ids[i] for a_id in top_k_labels])\n",
        "    cur_prec_at_k = num_true_in_top_k/k\n",
        "    cur_recall_at_k = num_true_in_top_k / num_true_labels\n",
        "    recall_at_k_list.append(cur_recall_at_k)\n",
        "    prec_at_k_list.append(cur_prec_at_k)\n",
        "  return np.mean(prec_at_k_list), np.mean(recall_at_k_list)"
      ],
      "execution_count": 18,
      "outputs": []
    },
    {
      "cell_type": "code",
      "metadata": {
        "colab": {
          "base_uri": "https://localhost:8080/"
        },
        "id": "1x-ZDjaGBBqN",
        "outputId": "641f3a9a-9aa1-44c3-c3c1-c5f214a48975"
      },
      "source": [
        "print(\"Prec, Recall at 1 : \",  compute_prec_recall_at_k(corpus, ID,Q, 1))"
      ],
      "execution_count": 19,
      "outputs": [
        {
          "output_type": "stream",
          "text": [
            "Prec, Recall at 1 :  (0.9401709401709402, 0.11207079724421402)\n"
          ],
          "name": "stdout"
        }
      ]
    },
    {
      "cell_type": "code",
      "metadata": {
        "colab": {
          "base_uri": "https://localhost:8080/"
        },
        "id": "S1IjYILtAO2y",
        "outputId": "6b94a7f2-d725-4c39-fe5b-7d73b87f4e54"
      },
      "source": [
        "print(\"Prec, Recall at 5 : \",  compute_prec_recall_at_k(corpus, ID,Q, 5))"
      ],
      "execution_count": 20,
      "outputs": [
        {
          "output_type": "stream",
          "text": [
            "Prec, Recall at 5 :  (0.6051282051282053, 0.21838322356355344)\n"
          ],
          "name": "stdout"
        }
      ]
    },
    {
      "cell_type": "code",
      "metadata": {
        "colab": {
          "base_uri": "https://localhost:8080/"
        },
        "id": "E9rcwaKBB-Dh",
        "outputId": "d75da549-aa3b-44e9-81f9-e8ecb58e8697"
      },
      "source": [
        "print(\"Prec,Recall at 10 : \",  compute_prec_recall_at_k(corpus, ID,Q, 10))"
      ],
      "execution_count": 21,
      "outputs": [
        {
          "output_type": "stream",
          "text": [
            "Prec,Recall at 10 :  (0.4871794871794871, 0.2939409663189171)\n"
          ],
          "name": "stdout"
        }
      ]
    }
  ]
}