{
  "nbformat": 4,
  "nbformat_minor": 0,
  "metadata": {
    "accelerator": "GPU",
    "colab": {
      "name": "Seq2Seq.ipynb",
      "provenance": [],
      "collapsed_sections": []
    },
    "kernelspec": {
      "display_name": "Python 3",
      "name": "python3"
    },
    "language_info": {
      "name": "python"
    }
  },
  "cells": [
    {
      "cell_type": "code",
      "metadata": {
        "id": "QotkbAkGF5EB"
      },
      "source": [
        "from keras.models import Model\n",
        "from keras.layers import Input, LSTM, Dense\n",
        "import re\n",
        "import random\n",
        "import numpy as np\n",
        "import pandas as pd\n",
        "import tensorflow as tf\n",
        "from tensorflow import keras"
      ],
      "execution_count": null,
      "outputs": []
    },
    {
      "cell_type": "code",
      "metadata": {
        "id": "z5rs2x9BVFIk"
      },
      "source": [
        "cols = ['ID(original)', 'ID' , 'Q' , 'A']\n",
        "data = pd.read_csv('COQB-19_crowdsourced_06202020.csv', sep=',', names=cols, header=None, encoding='latin-1', skiprows=1) # TODO: add skiprows\n",
        "# TODO: drop rows with na\n",
        "data = data.dropna()\n",
        "ID= data['ID'].tolist()\n",
        "corpus = data['Q'].tolist()\n",
        "Answers = data['A'].tolist()"
      ],
      "execution_count": null,
      "outputs": []
    },
    {
      "cell_type": "code",
      "metadata": {
        "id": "utfNhqPgWLxU"
      },
      "source": [
        "pairs = list(zip(corpus,Answers))"
      ],
      "execution_count": null,
      "outputs": []
    },
    {
      "cell_type": "code",
      "metadata": {
        "id": "TDemfGIVWdE8"
      },
      "source": [
        "max_answer_words = 50"
      ],
      "execution_count": null,
      "outputs": []
    },
    {
      "cell_type": "code",
      "metadata": {
        "id": "xxemSZtoVfVW"
      },
      "source": [
        "input_docs = []\n",
        "target_docs = []\n",
        "input_tokens = set()\n",
        "target_tokens = set()\n",
        "# TODO: use all pairs\n",
        "for line in pairs[:]:\n",
        "  input_doc, target_doc = line[0], line[1]\n",
        "  # Appending each input sentence to input_docs\n",
        "  input_docs.append(input_doc)\n",
        "  # Splitting words from punctuation  \n",
        "  target_doc = \" \".join(re.findall(r\"[\\w']+|[^\\s\\w]\", target_doc)[:max_answer_words])\n",
        "  # Redefine target_doc below and append it to target_docs\n",
        "  target_doc = '<START> ' + target_doc + ' <END>'\n",
        "  target_docs.append(target_doc)\n",
        "  \n",
        "  # Now we split up each sentence into words and add each unique word to our vocabulary set\n",
        "  for token in re.findall(r\"[\\w']+|[^\\s\\w]\", input_doc):\n",
        "    if token not in input_tokens:\n",
        "      input_tokens.add(token)\n",
        "  for token in target_doc.split():\n",
        "    if token not in target_tokens:\n",
        "      target_tokens.add(token)\n",
        "input_tokens = sorted(list(input_tokens))\n",
        "target_tokens = sorted(list(target_tokens))\n",
        "num_encoder_tokens = len(input_tokens)\n",
        "num_decoder_tokens = len(target_tokens)\n",
        "\n",
        "input_features_dict = dict(\n",
        "    [(token, i) for i, token in enumerate(input_tokens)])\n",
        "target_features_dict = dict(\n",
        "    [(token, i) for i, token in enumerate(target_tokens)])\n",
        "\n",
        "reverse_input_features_dict = dict(\n",
        "    (i, token) for token, i in input_features_dict.items())\n",
        "reverse_target_features_dict = dict(\n",
        "    (i, token) for token, i in target_features_dict.items())\n",
        "\n",
        "\n",
        "max_encoder_seq_length = max([len(re.findall(r\"[\\w']+|[^\\s\\w]\", input_doc)) for input_doc in input_docs])\n",
        "max_decoder_seq_length = max([len(re.findall(r\"[\\w']+|[^\\s\\w]\", target_doc)) for target_doc in target_docs])"
      ],
      "execution_count": null,
      "outputs": []
    },
    {
      "cell_type": "code",
      "metadata": {
        "id": "uo7KM6zxsr57"
      },
      "source": [
        "batch_size = 256"
      ],
      "execution_count": null,
      "outputs": []
    },
    {
      "cell_type": "code",
      "metadata": {
        "id": "fpoYT-nEGkjm"
      },
      "source": [
        "def encode_question_answer(input_doc, target_doc):\n",
        "  \"\"\" Encode the question andanswer \"\"\"\n",
        "  encoder_input_data = np.zeros(\n",
        "    (max_encoder_seq_length, num_encoder_tokens),\n",
        "    dtype='float32')\n",
        "  decoder_input_data = np.zeros(\n",
        "     (max_decoder_seq_length, num_decoder_tokens),\n",
        "    dtype='float32')\n",
        "  decoder_target_data = np.zeros(\n",
        "    (max_decoder_seq_length, num_decoder_tokens),\n",
        "    dtype='float32')\n",
        "  \n",
        "  for timestep, token in enumerate(re.findall(r\"[\\w']+|[^\\s\\w]\", input_doc)):\n",
        "    #Assign 1. for the current line, timestep, & word in encoder_input_data\n",
        "    encoder_input_data[timestep, input_features_dict[token]] = 1\n",
        "    \n",
        "  for timestep, token in enumerate(target_doc.split()):\n",
        "    decoder_input_data[timestep, target_features_dict[token]] = 1\n",
        "    if timestep > 0:\n",
        "      decoder_target_data[timestep - 1, target_features_dict[token]] = 1  \n",
        "  # TODO: we  don't really need the second output, but for some reason I have found the dataset will not batch properly without it.\n",
        "  return (encoder_input_data,  decoder_input_data),  (decoder_target_data,decoder_target_data)"
      ],
      "execution_count": null,
      "outputs": []
    },
    {
      "cell_type": "code",
      "metadata": {
        "id": "RaufLqB-s4Op"
      },
      "source": [
        "def generator_question_answer():\n",
        "  \"\"\" Encode the question andanswer \"\"\"\n",
        "  idx = 0\n",
        "  while idx < len(pairs):\n",
        "    yield encode_question_answer(input_docs[idx], target_docs[idx])\n",
        "    idx +=1"
      ],
      "execution_count": null,
      "outputs": []
    },
    {
      "cell_type": "code",
      "metadata": {
        "id": "dfL_kwnkaiD4"
      },
      "source": [
        "dataset = tf.data.Dataset.from_generator(generator_question_answer,\n",
        "                                          output_types=((tf.float32, tf.float32), (tf.float32, tf.float32)),\n",
        "                                          output_shapes = (([max_encoder_seq_length, num_encoder_tokens],[max_decoder_seq_length,num_decoder_tokens]),\n",
        "                                          ([max_decoder_seq_length,num_decoder_tokens],[max_decoder_seq_length,num_decoder_tokens])),)\n",
        "dataset = dataset.shuffle(buffer_size=1024).batch(batch_size).prefetch(tf.data.AUTOTUNE)"
      ],
      "execution_count": null,
      "outputs": []
    },
    {
      "cell_type": "code",
      "metadata": {
        "id": "PWfXLu_9s_Rs"
      },
      "source": [
        "#Dimensionality\n",
        "dimensionality = 256\n",
        "#The batch size and number of epochs\n",
        "epochs = 600\n",
        "#Encoder\n",
        "encoder_inputs = Input(shape= (max_encoder_seq_length, num_encoder_tokens), dtype=tf.float32, name='enc_input')\n",
        "encoder_lstm = LSTM(dimensionality, return_state=True)\n",
        "encoder_outputs, state_hidden, state_cell = encoder_lstm(encoder_inputs)\n",
        "encoder_states = [state_hidden, state_cell]\n",
        "#Decoder\n",
        "decoder_inputs = Input(shape=(max_decoder_seq_length, num_decoder_tokens), dtype=tf.float32, name='dec_input')\n",
        "decoder_lstm = LSTM(dimensionality, return_sequences=True, return_state=True)\n",
        "decoder_outputs, decoder_state_hidden, decoder_state_cell = decoder_lstm(decoder_inputs, initial_state=encoder_states)\n",
        "decoder_dense = Dense(num_decoder_tokens, activation='softmax')\n",
        "decoder_outputs = decoder_dense(decoder_outputs)"
      ],
      "execution_count": null,
      "outputs": []
    },
    {
      "cell_type": "code",
      "metadata": {
        "id": "vaf2X_-GtBrt"
      },
      "source": [
        "#Model\n",
        "# TODO: we  don't really need the second output, but for some reason I have found the dataset will not batch properlywithout it.\n",
        "# We can adjust for its presence by dividing the learning rate by 2.\n",
        "training_model = Model(inputs=[encoder_inputs, decoder_inputs], outputs=[decoder_outputs,decoder_outputs])\n",
        "#Compiling\n",
        "training_model.compile(optimizer=tf.keras.optimizers.RMSprop(learning_rate=0.003), loss='categorical_crossentropy', metrics=['accuracy'], sample_weight_mode='temporal')\n",
        "#Training"
      ],
      "execution_count": null,
      "outputs": []
    },
    {
      "cell_type": "code",
      "metadata": {
        "colab": {
          "background_save": true
        },
        "id": "9tPDpkiMtFi5"
      },
      "source": [
        "#training_model.fit(dataset, epochs = epochs)"
      ],
      "execution_count": null,
      "outputs": []
    },
    {
      "cell_type": "code",
      "metadata": {
        "colab": {
          "background_save": true
        },
        "id": "zfBUhwJAtH4L"
      },
      "source": [
        "#training_model.save('training_model.h5')"
      ],
      "execution_count": null,
      "outputs": []
    },
    {
      "cell_type": "code",
      "metadata": {
        "id": "JmGE7QX7tN1I"
      },
      "source": [
        "from keras.models import load_model\n",
        "training_model = load_model('training_model.h5')"
      ],
      "execution_count": null,
      "outputs": []
    },
    {
      "cell_type": "code",
      "metadata": {
        "colab": {
          "background_save": true
        },
        "id": "iZI0Ej7YtOfr"
      },
      "source": [
        "encoder_inputs = training_model.input[0]\n",
        "encoder_outputs, state_h_enc, state_c_enc = training_model.layers[2].output\n",
        "encoder_states = [state_h_enc, state_c_enc]\n",
        "encoder_model = Model(encoder_inputs, encoder_states)"
      ],
      "execution_count": null,
      "outputs": []
    },
    {
      "cell_type": "code",
      "metadata": {
        "colab": {
          "background_save": true
        },
        "id": "14X6MY2ktUgO"
      },
      "source": [
        "latent_dim = 256\n",
        "decoder_infer_inputs = Input(shape=(1, num_decoder_tokens), dtype=tf.float32, name='dec_infer_input')\n",
        "decoder_state_input_hidden = Input(shape=(latent_dim,))\n",
        "decoder_state_input_cell = Input(shape=(latent_dim,))\n",
        "decoder_states_inputs = [decoder_state_input_hidden, decoder_state_input_cell]\n",
        "decoder_outputs, state_hidden, state_cell = decoder_lstm(decoder_infer_inputs, initial_state=decoder_states_inputs)\n",
        "decoder_states = [state_hidden, state_cell]\n",
        "decoder_outputs = decoder_dense(decoder_outputs)\n",
        "decoder_model = Model([decoder_infer_inputs] + decoder_states_inputs, [decoder_outputs] + decoder_states)"
      ],
      "execution_count": null,
      "outputs": []
    },
    {
      "cell_type": "code",
      "metadata": {
        "colab": {
          "background_save": true
        },
        "id": "GcHfF_VbeyOw"
      },
      "source": [
        "def decode_response(test_input):\n",
        "    #Getting the output states to pass into the decoder\n",
        "    states_value = encoder_model.predict(test_input)\n",
        "    #Generating empty target sequence of length 1\n",
        "    target_seq = np.zeros((1, 1, num_decoder_tokens))\n",
        "    #Setting the first token of target sequence with the start token\n",
        "    target_seq[0, 0, target_features_dict['<START>']] = 1.\n",
        "    \n",
        "    #A variable to store our response word by word\n",
        "    decoded_sentence = ''\n",
        "    \n",
        "    word_idx = 0\n",
        "    stop_condition = False\n",
        "    while not stop_condition:\n",
        "        #Predicting output tokens with probabilities and states\n",
        "        output_tokens, hidden_state, cell_state = decoder_model.predict([target_seq] + states_value)\n",
        "    #Choosing the one with highest probability\n",
        "        sampled_token_index = np.argmax(output_tokens[0, 0, :])\n",
        "        sampled_token = reverse_target_features_dict[sampled_token_index]\n",
        "        decoded_sentence += \" \" + sampled_token\n",
        "    #Stop if hit max length or found the stop token\n",
        "        if (sampled_token == '<END>' or word_idx >= max_decoder_seq_length-1):\n",
        "          stop_condition = True\n",
        "        else:\n",
        "          target_seq = np.zeros((1, 1, num_decoder_tokens))\n",
        "          target_seq[0, 0, sampled_token_index] = 1.\n",
        "          word_idx+=1\n",
        "          #Update states\n",
        "          states_value = [hidden_state, cell_state]\n",
        "    return decoded_sentence"
      ],
      "execution_count": null,
      "outputs": []
    },
    {
      "cell_type": "code",
      "metadata": {
        "colab": {
          "background_save": true
        },
        "id": "XQt8vjZTfZ_y"
      },
      "source": [
        "def string_to_matrix(user_input):\n",
        "  tokens = re.findall(r\"[\\w']+|[^\\s\\w]\", user_input)\n",
        "  user_input_matrix = np.zeros(\n",
        "    (1, max_encoder_seq_length, num_encoder_tokens),\n",
        "    dtype='float32')\n",
        "  for timestep, token in enumerate(tokens):\n",
        "    if token in input_features_dict:\n",
        "      user_input_matrix[0, timestep, input_features_dict[token]] = 1.\n",
        "  return user_input_matrix\n",
        "\n",
        "#Method that will create a response using seq2seq model we built\n",
        "def generate_response(user_input):\n",
        "  input_matrix = string_to_matrix(user_input)\n",
        "  chatbot_response = decode_response(input_matrix)\n",
        "  #Remove <START> and <END> tokens from chatbot_response\n",
        "  chatbot_response = chatbot_response.replace(\"<START>\",'')\n",
        "  chatbot_response = chatbot_response.replace(\"<END>\",'')\n",
        "  return chatbot_response"
      ],
      "execution_count": null,
      "outputs": []
    },
    {
      "cell_type": "code",
      "metadata": {
        "colab": {
          "background_save": true
        },
        "id": "KxcAQP6q6pMQ"
      },
      "source": [
        "import os\n",
        "if not os.path.exists('templates'):\n",
        "  os.makedirs('templates')\n",
        "if not os.path.exists('static'):\n",
        "  os.makedirs('static')\n"
      ],
      "execution_count": null,
      "outputs": []
    },
    {
      "cell_type": "code",
      "metadata": {
        "colab": {
          "background_save": true
        },
        "id": "LguctOHG7M3p"
      },
      "source": [
        "home= '''\n",
        "\n",
        "<!DOCTYPE html>\n",
        "<html lang=\"en\">\n",
        "\n",
        "<head>\n",
        "  <meta charset=\"UTF-8\">\n",
        "  <title>InferMedica Chatbot</title>\n",
        "  <meta charset=\"UTF-8\">\n",
        "  <meta name=\"viewport\" content=\"width=device-width, initial-scale=1.0\">\n",
        "  <meta http-equiv=\"X-UA-Compatible\" content=\"ie=edge\">\n",
        "  <link rel=\"stylesheet\" href=\"/static/style.css\">\n",
        "  <script src=\"https://ajax.googleapis.com/ajax/libs/jquery/3.2.1/jquery.min.js\"></script>\n",
        "</head>\n",
        "\n",
        "<body>\n",
        "  <!-- partial:index.partial.html -->\n",
        "  <section class=\"msger\">\n",
        "    <header class=\"msger-header\">\n",
        "      <div class=\"msger-header-title\">\n",
        "        <i></i> InferMedica Chatbot <i></i>\n",
        "      </div>\n",
        "    </header>\n",
        "\n",
        "    <main class=\"msger-chat\">\n",
        "      <div class=\"msg left-msg\">\n",
        "        <div class=\"msg-img\" style=\"background-image: url(https://image.flaticon.com/icons/svg/327/327779.svg)\"></div>\n",
        "\n",
        "        <div class=\"msg-bubble\">\n",
        "          <div class=\"msg-info\">\n",
        "            <div class=\"msg-info-name\">InferMedica</div>\n",
        "        \n",
        "          </div>\n",
        "\n",
        "          <div class=\"msg-text\">\n",
        "            Hi, welcome to InferMedica ChatBot! How can I help you?! 😄\n",
        "          </div>\n",
        "        </div>\n",
        "      </div>\n",
        "\n",
        "    </main>\n",
        "\n",
        "    <form class=\"msger-inputarea\">\n",
        "      <input type=\"text\" class=\"msger-input\" id=\"textInput\" placeholder=\"Type your message...\">\n",
        "      <button type=\"submit\" class=\"msger-send-btn\">Send</button>\n",
        "    </form>\n",
        "  </section>\n",
        "  <!-- partial -->\n",
        "  <script src='https://use.fontawesome.com/releases/v5.0.13/js/all.js'></script>\n",
        "  <script>\n",
        "\n",
        "    const msgerForm = get(\".msger-inputarea\");\n",
        "    const msgerInput = get(\".msger-input\");\n",
        "    const msgerChat = get(\".msger-chat\");\n",
        "\n",
        "\n",
        "    // Icons made by Freepik from www.flaticon.com\n",
        "    const BOT_IMG = \"https://image.flaticon.com/icons/svg/327/327779.svg\";\n",
        "    const PERSON_IMG = \"https://image.flaticon.com/icons/svg/145/145867.svg\";\n",
        "    const BOT_NAME = \"ChatBot\";\n",
        "    const PERSON_NAME = \"You\";\n",
        "\n",
        "    msgerForm.addEventListener(\"submit\", event => {\n",
        "      event.preventDefault();\n",
        "\n",
        "      const msgText = msgerInput.value;\n",
        "      if (!msgText) return;\n",
        "\n",
        "      appendMessage(PERSON_NAME, PERSON_IMG, \"right\", msgText);\n",
        "      msgerInput.value = \"\";\n",
        "      botResponse(msgText);\n",
        "    });\n",
        "\n",
        "    function appendMessage(name, img, side, text) {\n",
        "      //   Simple solution for small apps\n",
        "      const msgHTML = `\n",
        "<div class=\"msg ${side}-msg\">\n",
        "  <div class=\"msg-img\" style=\"background-image: url(${img})\"></div>\n",
        "\n",
        "  <div class=\"msg-bubble\">\n",
        "    <div class=\"msg-info\">\n",
        "      <div class=\"msg-info-name\">${name}</div>\n",
        "      <div class=\"msg-info-time\">${formatDate(new Date())}</div>\n",
        "    </div>\n",
        "\n",
        "    <div class=\"msg-text\">${text}</div>\n",
        "  </div>\n",
        "</div>\n",
        "`;\n",
        "\n",
        "      msgerChat.insertAdjacentHTML(\"beforeend\", msgHTML);\n",
        "      msgerChat.scrollTop += 500;\n",
        "    }\n",
        "\n",
        "    function botResponse(rawText) {\n",
        "\n",
        "      // Bot Response\n",
        "      $.get(\"/get\", { msg: rawText }).done(function (data) {\n",
        "        console.log(rawText);\n",
        "        console.log(data);\n",
        "        const msgText = data;\n",
        "        appendMessage(BOT_NAME, BOT_IMG, \"left\", msgText);\n",
        "\n",
        "      });\n",
        "\n",
        "    }\n",
        "\n",
        "\n",
        "    // Utils\n",
        "    function get(selector, root = document) {\n",
        "      return root.querySelector(selector);\n",
        "    }\n",
        "\n",
        "    function formatDate(date) {\n",
        "      const h = \"0\" + date.getHours();\n",
        "      const m = \"0\" + date.getMinutes();\n",
        "\n",
        "      return `${h.slice(-2)}:${m.slice(-2)}`;\n",
        "    }\n",
        "\n",
        "\n",
        "\n",
        "  </script>\n",
        "\n",
        "</body>\n",
        "\n",
        "</html>\n",
        "'''\n",
        "\n",
        "\n",
        "file=open(\"templates/home.html\", \"w\")\n",
        "file.write(home)\n",
        "file.close()\n"
      ],
      "execution_count": null,
      "outputs": []
    },
    {
      "cell_type": "code",
      "metadata": {
        "colab": {
          "background_save": true
        },
        "id": "Hi3ClYXBvniF"
      },
      "source": [
        "!pip install flask-ngrok\n",
        "!pip install flask==0.12.2\n"
      ],
      "execution_count": null,
      "outputs": []
    },
    {
      "cell_type": "code",
      "metadata": {
        "id": "7oaC_q7vwgSz"
      },
      "source": [
        "from flask import Flask, render_template, request, redirect, url_for\n",
        "from flask_ngrok import run_with_ngrok\n",
        "\n",
        "app = Flask(__name__)\n",
        "run_with_ngrok(app)\n",
        "\n",
        "@app.route(\"/\")\n",
        "def home():\n",
        "    return render_template(\"home.html\")\n",
        "@app.route(\"/get\")\n",
        "def get_bot_response():\n",
        "    user_input = request.args.get('msg')\n",
        "    return generate_response(user_input)\n",
        "app.run()\n"
      ],
      "execution_count": null,
      "outputs": []
    }
  ]
}